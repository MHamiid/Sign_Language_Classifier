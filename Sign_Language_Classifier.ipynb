{
  "nbformat": 4,
  "nbformat_minor": 0,
  "metadata": {
    "colab": {
      "name": "Sign_Language_Classifier.ipynb",
      "provenance": [],
      "collapsed_sections": [],
      "toc_visible": true,
      "authorship_tag": "ABX9TyPSaqsuZwzS2fjj3rof5kvo",
      "include_colab_link": true
    },
    "kernelspec": {
      "name": "python3",
      "display_name": "Python 3"
    },
    "accelerator": "GPU"
  },
  "cells": [
    {
      "cell_type": "markdown",
      "metadata": {
        "id": "view-in-github",
        "colab_type": "text"
      },
      "source": [
        "<a href=\"https://colab.research.google.com/github/MHamiid/Sign_Language_Classifier/blob/master/Sign_Language_Classifier.ipynb\" target=\"_parent\"><img src=\"https://colab.research.google.com/assets/colab-badge.svg\" alt=\"Open In Colab\"/></a>"
      ]
    },
    {
      "cell_type": "code",
      "metadata": {
        "id": "6g_OIwsSvKe0",
        "colab_type": "code",
        "colab": {}
      },
      "source": [
        "import csv\n",
        "import json\n",
        "import zipfile\n",
        "import numpy as np\n",
        "import tensorflow as tf\n",
        "import matplotlib.pyplot as plt\n",
        "from tensorflow.keras.preprocessing.image import ImageDataGenerator"
      ],
      "execution_count": 0,
      "outputs": []
    },
    {
      "cell_type": "markdown",
      "metadata": {
        "id": "hqhX0eWDzB83",
        "colab_type": "text"
      },
      "source": [
        "Set Kaggle.json "
      ]
    },
    {
      "cell_type": "code",
      "metadata": {
        "id": "CF-CWS2BzTZq",
        "colab_type": "code",
        "colab": {}
      },
      "source": [
        "!mkdir ~/.kaggle\n",
        "!touch ~/.kaggle/kaggle.json #json file needed to use kaggle api.\n",
        "\n",
        "api_token = {\"username\":\"UserName\",\"key\":\"ApiKey\"} #use your own kaggle username and api key.\n",
        "\n",
        "with open('/root/.kaggle/kaggle.json', 'w') as file:\n",
        "    json.dump(api_token, file)\n",
        "\n",
        "!chmod 600 ~/.kaggle/kaggle.json"
      ],
      "execution_count": 0,
      "outputs": []
    },
    {
      "cell_type": "markdown",
      "metadata": {
        "id": "TaFEYqVd2g52",
        "colab_type": "text"
      },
      "source": [
        "Download sign language dataset"
      ]
    },
    {
      "cell_type": "code",
      "metadata": {
        "id": "Dqndo-gz02pp",
        "colab_type": "code",
        "colab": {
          "base_uri": "https://localhost:8080/",
          "height": 72
        },
        "outputId": "0bdd635f-c5b3-4c40-b5e4-c36c4bf260fd"
      },
      "source": [
        "!kaggle datasets download -d datamunge/sign-language-mnist"
      ],
      "execution_count": 3,
      "outputs": [
        {
          "output_type": "stream",
          "text": [
            "Downloading sign-language-mnist.zip to /content\n",
            " 81% 51.0M/62.6M [00:03<00:01, 8.73MB/s]\n",
            "100% 62.6M/62.6M [00:03<00:00, 17.6MB/s]\n"
          ],
          "name": "stdout"
        }
      ]
    },
    {
      "cell_type": "code",
      "metadata": {
        "id": "0v1YNxoG1uV0",
        "colab_type": "code",
        "colab": {}
      },
      "source": [
        "#Unzip data set\n",
        "!mkdir /content/dataset\n",
        "dataset_zip = '/content/sign-language-mnist.zip'\n",
        "zip_ref = zipfile.ZipFile(dataset_zip, 'r')\n",
        "zip_ref.extractall('/content/dataset')\n",
        "zip_ref.close()\n"
      ],
      "execution_count": 0,
      "outputs": []
    },
    {
      "cell_type": "code",
      "metadata": {
        "id": "CYu0YKxq4R4C",
        "colab_type": "code",
        "colab": {}
      },
      "source": [
        "def get_csv_data(filename):\n",
        "    with open(filename) as training_file:\n",
        "        csv_reader = csv.reader(training_file, delimiter=',') \n",
        "        first_line = True\n",
        "        images = []\n",
        "        labels = []\n",
        "        for row in csv_reader:\n",
        "            if first_line:\n",
        "                first_line = False\n",
        "            else:\n",
        "                labels.append(row[0])\n",
        "                image_data =np.array_split(row[1:] , 28)\n",
        "                images.append(image_data)\n",
        "        images = np.array(images).astype('float')\n",
        "        labels = np.array(labels).astype('float')\n",
        "    return images, labels\n",
        "\n"
      ],
      "execution_count": 0,
      "outputs": []
    },
    {
      "cell_type": "code",
      "metadata": {
        "id": "WrlKGms65JFh",
        "colab_type": "code",
        "colab": {
          "base_uri": "https://localhost:8080/",
          "height": 54
        },
        "outputId": "8d6a0ba7-ac25-493d-9a98-c558abcf9025"
      },
      "source": [
        "path_sign_mnist_train = \"/content/dataset/sign_mnist_train/sign_mnist_train.csv\"\n",
        "path_sign_mnist_test = \"/content/dataset/sign_mnist_test/sign_mnist_test.csv\"\n",
        "training_images, training_labels = get_csv_data(path_sign_mnist_train)\n",
        "testing_images, testing_labels = get_csv_data(path_sign_mnist_test)\n",
        "\n",
        "print(\"Training data shape: \", training_images.shape)\n",
        "print(\"Testing data shape: \",testing_images.shape)\n"
      ],
      "execution_count": 6,
      "outputs": [
        {
          "output_type": "stream",
          "text": [
            "Training data shape:  (27455, 28, 28)\n",
            "Testing data shape:  (7172, 28, 28)\n"
          ],
          "name": "stdout"
        }
      ]
    },
    {
      "cell_type": "code",
      "metadata": {
        "id": "JACOOedF5fGz",
        "colab_type": "code",
        "colab": {}
      },
      "source": [
        "#expand one more dimension for the image channel.\n",
        "training_images = np.expand_dims(training_images , axis = 3)\n",
        "testing_images = np.expand_dims(testing_images , axis = 3)"
      ],
      "execution_count": 0,
      "outputs": []
    },
    {
      "cell_type": "markdown",
      "metadata": {
        "id": "wr4ltMwP6QLZ",
        "colab_type": "text"
      },
      "source": [
        "Create an *ImageDataGenerator* and do *Image Augmentation*\n"
      ]
    },
    {
      "cell_type": "code",
      "metadata": {
        "id": "FCtDUTxw6L3y",
        "colab_type": "code",
        "colab": {}
      },
      "source": [
        "train_datagen_intilize = ImageDataGenerator(\n",
        "     rescale=1. / 255,\n",
        "    rotation_range=40,\n",
        "    width_shift_range=0.2,\n",
        "    height_shift_range=0.2,\n",
        "    shear_range=0.2,\n",
        "    zoom_range=0.2,\n",
        "    horizontal_flip=True,\n",
        "    fill_mode='nearest')\n",
        "validation_datagen_intilize = ImageDataGenerator(\n",
        "    rescale = 1./255.)\n",
        "\n",
        "\n",
        "train_generator = train_datagen_intilize.flow(training_images ,training_labels, batch_size = 32)\n",
        "test_generator = validation_datagen_intilize.flow(testing_images, testing_labels, batch_size = 32)"
      ],
      "execution_count": 0,
      "outputs": []
    },
    {
      "cell_type": "markdown",
      "metadata": {
        "id": "YQp3CW7P7lW7",
        "colab_type": "text"
      },
      "source": [
        "# Define the model"
      ]
    },
    {
      "cell_type": "code",
      "metadata": {
        "id": "0MvijVbO9I05",
        "colab_type": "code",
        "colab": {}
      },
      "source": [
        "model = tf.keras.models.Sequential([\n",
        "    tf.keras.layers.Conv2D(64, (3, 3), activation='relu', input_shape=(28, 28, 1)),\n",
        "    tf.keras.layers.MaxPooling2D(2, 2),\n",
        "    tf.keras.layers.Conv2D(128, (3, 3), activation='relu'),\n",
        "    tf.keras.layers.MaxPooling2D(2, 2),\n",
        "    tf.keras.layers.Conv2D(256, (3, 3), activation='relu'),\n",
        "    tf.keras.layers.MaxPooling2D(2, 2),\n",
        "    tf.keras.layers.Flatten(),\n",
        "    tf.keras.layers.Dense(512, activation=\"relu\"),\n",
        "    tf.keras.layers.Dropout(0.3),\n",
        "    tf.keras.layers.Dense(26, activation=\"softmax\")]\n",
        "    )"
      ],
      "execution_count": 0,
      "outputs": []
    },
    {
      "cell_type": "code",
      "metadata": {
        "id": "2bl5GgBwAOeA",
        "colab_type": "code",
        "colab": {}
      },
      "source": [
        "#Compile model\n",
        "model.compile(optimizer = tf.optimizers.Adam(),\n",
        "              loss = 'sparse_categorical_crossentropy',\n",
        "              metrics=['acc'])"
      ],
      "execution_count": 0,
      "outputs": []
    },
    {
      "cell_type": "code",
      "metadata": {
        "id": "lyxRAhyVBMNh",
        "colab_type": "code",
        "colab": {}
      },
      "source": [
        "# Define a Callback class that stops training once accuracy reaches 92.0%\n",
        "class myCallback(tf.keras.callbacks.Callback):\n",
        "  def on_epoch_end(self, epoch, logs={}):\n",
        "    if(logs.get('acc')>0.92):\n",
        "      print(\"\\nReached 92% accuracy so cancelling training!\")\n",
        "      self.model.stop_training = True\n",
        "callback = myCallback()      "
      ],
      "execution_count": 0,
      "outputs": []
    },
    {
      "cell_type": "code",
      "metadata": {
        "id": "9YdPPvWcAfXH",
        "colab_type": "code",
        "colab": {
          "base_uri": "https://localhost:8080/",
          "height": 1000
        },
        "outputId": "32243962-2ae9-4bd0-8b03-f754aa7574b7"
      },
      "source": [
        "#Training the model\n",
        "history = model.fit(train_generator , validation_data = test_generator ,\n",
        "                              steps_per_epoch=len(training_images) / 32\n",
        "                              ,validation_steps=len(testing_images) / 32\n",
        "                              ,epochs = 100 , callbacks = [callback])\n"
      ],
      "execution_count": 18,
      "outputs": [
        {
          "output_type": "stream",
          "text": [
            "Epoch 1/100\n",
            "858/857 [==============================] - 16s 19ms/step - loss: 2.7854 - acc: 0.1381 - val_loss: 2.1330 - val_acc: 0.2676\n",
            "Epoch 2/100\n",
            "858/857 [==============================] - 16s 19ms/step - loss: 1.7975 - acc: 0.4080 - val_loss: 1.1062 - val_acc: 0.5943\n",
            "Epoch 3/100\n",
            "858/857 [==============================] - 16s 19ms/step - loss: 1.3459 - acc: 0.5462 - val_loss: 0.8228 - val_acc: 0.7083\n",
            "Epoch 4/100\n",
            "858/857 [==============================] - 16s 19ms/step - loss: 1.0871 - acc: 0.6314 - val_loss: 0.6147 - val_acc: 0.7695\n",
            "Epoch 5/100\n",
            "858/857 [==============================] - 16s 19ms/step - loss: 0.9287 - acc: 0.6836 - val_loss: 0.4603 - val_acc: 0.8194\n",
            "Epoch 6/100\n",
            "858/857 [==============================] - 16s 19ms/step - loss: 0.8281 - acc: 0.7162 - val_loss: 0.4293 - val_acc: 0.8540\n",
            "Epoch 7/100\n",
            "858/857 [==============================] - 16s 19ms/step - loss: 0.7260 - acc: 0.7511 - val_loss: 0.3260 - val_acc: 0.8865\n",
            "Epoch 8/100\n",
            "858/857 [==============================] - 16s 18ms/step - loss: 0.6697 - acc: 0.7689 - val_loss: 0.2761 - val_acc: 0.8958\n",
            "Epoch 9/100\n",
            "858/857 [==============================] - 16s 19ms/step - loss: 0.6334 - acc: 0.7838 - val_loss: 0.2707 - val_acc: 0.9154\n",
            "Epoch 10/100\n",
            "858/857 [==============================] - 16s 19ms/step - loss: 0.5772 - acc: 0.8039 - val_loss: 0.2741 - val_acc: 0.9004\n",
            "Epoch 11/100\n",
            "858/857 [==============================] - 16s 19ms/step - loss: 0.5471 - acc: 0.8134 - val_loss: 0.2008 - val_acc: 0.9216\n",
            "Epoch 12/100\n",
            "858/857 [==============================] - 16s 19ms/step - loss: 0.5172 - acc: 0.8237 - val_loss: 0.2000 - val_acc: 0.9200\n",
            "Epoch 13/100\n",
            "858/857 [==============================] - 16s 19ms/step - loss: 0.4887 - acc: 0.8332 - val_loss: 0.1841 - val_acc: 0.9300\n",
            "Epoch 14/100\n",
            "858/857 [==============================] - 16s 19ms/step - loss: 0.4713 - acc: 0.8413 - val_loss: 0.1863 - val_acc: 0.9268\n",
            "Epoch 15/100\n",
            "858/857 [==============================] - 16s 19ms/step - loss: 0.4580 - acc: 0.8420 - val_loss: 0.1577 - val_acc: 0.9434\n",
            "Epoch 16/100\n",
            "858/857 [==============================] - 16s 19ms/step - loss: 0.4367 - acc: 0.8505 - val_loss: 0.1511 - val_acc: 0.9452\n",
            "Epoch 17/100\n",
            "858/857 [==============================] - 16s 19ms/step - loss: 0.4252 - acc: 0.8532 - val_loss: 0.1472 - val_acc: 0.9423\n",
            "Epoch 18/100\n",
            "858/857 [==============================] - 16s 19ms/step - loss: 0.4148 - acc: 0.8603 - val_loss: 0.1646 - val_acc: 0.9327\n",
            "Epoch 19/100\n",
            "858/857 [==============================] - 16s 19ms/step - loss: 0.3965 - acc: 0.8657 - val_loss: 0.1151 - val_acc: 0.9640\n",
            "Epoch 20/100\n",
            "858/857 [==============================] - 16s 19ms/step - loss: 0.3852 - acc: 0.8687 - val_loss: 0.1450 - val_acc: 0.9416\n",
            "Epoch 21/100\n",
            "858/857 [==============================] - 16s 19ms/step - loss: 0.3717 - acc: 0.8739 - val_loss: 0.2050 - val_acc: 0.9200\n",
            "Epoch 22/100\n",
            "858/857 [==============================] - 16s 19ms/step - loss: 0.3575 - acc: 0.8804 - val_loss: 0.0993 - val_acc: 0.9642\n",
            "Epoch 23/100\n",
            "858/857 [==============================] - 16s 19ms/step - loss: 0.3548 - acc: 0.8814 - val_loss: 0.1718 - val_acc: 0.9345\n",
            "Epoch 24/100\n",
            "858/857 [==============================] - 16s 19ms/step - loss: 0.3550 - acc: 0.8803 - val_loss: 0.1622 - val_acc: 0.9364\n",
            "Epoch 25/100\n",
            "858/857 [==============================] - 16s 19ms/step - loss: 0.3377 - acc: 0.8854 - val_loss: 0.0689 - val_acc: 0.9746\n",
            "Epoch 26/100\n",
            "858/857 [==============================] - 16s 19ms/step - loss: 0.3337 - acc: 0.8869 - val_loss: 0.0805 - val_acc: 0.9725\n",
            "Epoch 27/100\n",
            "858/857 [==============================] - 16s 19ms/step - loss: 0.3304 - acc: 0.8890 - val_loss: 0.1240 - val_acc: 0.9607\n",
            "Epoch 28/100\n",
            "858/857 [==============================] - 16s 19ms/step - loss: 0.3190 - acc: 0.8927 - val_loss: 0.0844 - val_acc: 0.9746\n",
            "Epoch 29/100\n",
            "858/857 [==============================] - 16s 19ms/step - loss: 0.3149 - acc: 0.8927 - val_loss: 0.0592 - val_acc: 0.9803\n",
            "Epoch 30/100\n",
            "858/857 [==============================] - 16s 19ms/step - loss: 0.3153 - acc: 0.8956 - val_loss: 0.0752 - val_acc: 0.9750\n",
            "Epoch 31/100\n",
            "858/857 [==============================] - 16s 19ms/step - loss: 0.3068 - acc: 0.8973 - val_loss: 0.0585 - val_acc: 0.9806\n",
            "Epoch 32/100\n",
            "858/857 [==============================] - 16s 19ms/step - loss: 0.3076 - acc: 0.8960 - val_loss: 0.0779 - val_acc: 0.9689\n",
            "Epoch 33/100\n",
            "858/857 [==============================] - 16s 19ms/step - loss: 0.2961 - acc: 0.8992 - val_loss: 0.0679 - val_acc: 0.9769\n",
            "Epoch 34/100\n",
            "858/857 [==============================] - 16s 19ms/step - loss: 0.3003 - acc: 0.8979 - val_loss: 0.0657 - val_acc: 0.9764\n",
            "Epoch 35/100\n",
            "858/857 [==============================] - 16s 19ms/step - loss: 0.2939 - acc: 0.9012 - val_loss: 0.1390 - val_acc: 0.9594\n",
            "Epoch 36/100\n",
            "858/857 [==============================] - 16s 19ms/step - loss: 0.2811 - acc: 0.9055 - val_loss: 0.0718 - val_acc: 0.9749\n",
            "Epoch 37/100\n",
            "858/857 [==============================] - 16s 19ms/step - loss: 0.2808 - acc: 0.9046 - val_loss: 0.0893 - val_acc: 0.9700\n",
            "Epoch 38/100\n",
            "858/857 [==============================] - 16s 19ms/step - loss: 0.2753 - acc: 0.9075 - val_loss: 0.1035 - val_acc: 0.9622\n",
            "Epoch 39/100\n",
            "858/857 [==============================] - 16s 19ms/step - loss: 0.2766 - acc: 0.9077 - val_loss: 0.0554 - val_acc: 0.9809\n",
            "Epoch 40/100\n",
            "858/857 [==============================] - 16s 19ms/step - loss: 0.2820 - acc: 0.9065 - val_loss: 0.0874 - val_acc: 0.9704\n",
            "Epoch 41/100\n",
            "858/857 [==============================] - 16s 19ms/step - loss: 0.2644 - acc: 0.9113 - val_loss: 0.0449 - val_acc: 0.9820\n",
            "Epoch 42/100\n",
            "858/857 [==============================] - 16s 19ms/step - loss: 0.2698 - acc: 0.9107 - val_loss: 0.0588 - val_acc: 0.9792\n",
            "Epoch 43/100\n",
            "858/857 [==============================] - 16s 19ms/step - loss: 0.2653 - acc: 0.9124 - val_loss: 0.0398 - val_acc: 0.9844\n",
            "Epoch 44/100\n",
            "858/857 [==============================] - 16s 19ms/step - loss: 0.2650 - acc: 0.9093 - val_loss: 0.0420 - val_acc: 0.9859\n",
            "Epoch 45/100\n",
            "858/857 [==============================] - 16s 19ms/step - loss: 0.2527 - acc: 0.9155 - val_loss: 0.0444 - val_acc: 0.9824\n",
            "Epoch 46/100\n",
            "858/857 [==============================] - 16s 19ms/step - loss: 0.2582 - acc: 0.9166 - val_loss: 0.0711 - val_acc: 0.9717\n",
            "Epoch 47/100\n",
            "858/857 [==============================] - 16s 19ms/step - loss: 0.2582 - acc: 0.9143 - val_loss: 0.0559 - val_acc: 0.9827\n",
            "Epoch 48/100\n",
            "858/857 [==============================] - 16s 19ms/step - loss: 0.2477 - acc: 0.9158 - val_loss: 0.0572 - val_acc: 0.9808\n",
            "Epoch 49/100\n",
            "858/857 [==============================] - 16s 19ms/step - loss: 0.2493 - acc: 0.9165 - val_loss: 0.0411 - val_acc: 0.9862\n",
            "Epoch 50/100\n",
            "858/857 [==============================] - 16s 19ms/step - loss: 0.2522 - acc: 0.9166 - val_loss: 0.0431 - val_acc: 0.9888\n",
            "Epoch 51/100\n",
            "858/857 [==============================] - 16s 19ms/step - loss: 0.2562 - acc: 0.9166 - val_loss: 0.0613 - val_acc: 0.9767\n",
            "Epoch 52/100\n",
            "857/857 [============================>.] - ETA: 0s - loss: 0.2398 - acc: 0.9219\n",
            "Reached 92% accuracy so cancelling training!\n",
            "858/857 [==============================] - 16s 19ms/step - loss: 0.2396 - acc: 0.9220 - val_loss: 0.0625 - val_acc: 0.9743\n"
          ],
          "name": "stdout"
        }
      ]
    },
    {
      "cell_type": "code",
      "metadata": {
        "id": "ZmwP_MgTA7gG",
        "colab_type": "code",
        "colab": {
          "base_uri": "https://localhost:8080/",
          "height": 545
        },
        "outputId": "9ccdd40f-854b-4a93-f817-8923aa98adbd"
      },
      "source": [
        "# Plot the chart for accuracy and loss on both training and validation\n",
        "%matplotlib inline\n",
        "import matplotlib.pyplot as plt\n",
        "acc = history.history['acc']\n",
        "val_acc = history.history['val_acc']\n",
        "loss = history.history['loss']\n",
        "val_loss = history.history['val_loss']\n",
        "\n",
        "epochs = range(len(acc))\n",
        "\n",
        "plt.plot(epochs, acc, 'r', label='Training accuracy')\n",
        "plt.plot(epochs, val_acc, 'b', label='Validation accuracy')\n",
        "plt.title('Training and validation accuracy')\n",
        "plt.legend()\n",
        "plt.figure()\n",
        "\n",
        "plt.plot(epochs, loss, 'r', label='Training Loss')\n",
        "plt.plot(epochs, val_loss, 'b', label='Validation Loss')\n",
        "plt.title('Training and validation loss')\n",
        "plt.legend()\n",
        "\n",
        "plt.show()"
      ],
      "execution_count": 19,
      "outputs": [
        {
          "output_type": "display_data",
          "data": {
            "image/png": "[encoded data removed]",
            "text/plain": [
              "<Figure size 432x288 with 1 Axes>"
            ]
          },
          "metadata": {
            "tags": [],
            "needs_background": "light"
          }
        },
        {
          "output_type": "display_data",
          "data": {
            "image/png": "[encoded data removed]",
            "text/plain": [
              "<Figure size 432x288 with 1 Axes>"
            ]
          },
          "metadata": {
            "tags": [],
            "needs_background": "light"
          }
        }
      ]
    },
    {
      "cell_type": "code",
      "metadata": {
        "id": "jsT7DSLFLzMP",
        "colab_type": "code",
        "colab": {}
      },
      "source": [
        "model.save(\"Sign_language_model.h5\")"
      ],
      "execution_count": 0,
      "outputs": []
    },
    {
      "cell_type": "code",
      "metadata": {
        "id": "Kac5sZTKMZxM",
        "colab_type": "code",
        "colab": {}
      },
      "source": [
        ""
      ],
      "execution_count": 0,
      "outputs": []
    }
  ]
}
